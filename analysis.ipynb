{
 "cells": [
  {
   "cell_type": "markdown",
   "id": "786e02a4-4ddf-4db5-ae27-3964e6c5d8e5",
   "metadata": {},
   "source": [
    "# Install and Import Libraries"
   ]
  },
  {
   "cell_type": "code",
   "execution_count": null,
   "id": "80507dd0-8687-4736-b692-e710cafeb65a",
   "metadata": {
    "scrolled": true
   },
   "outputs": [],
   "source": [
    "# Install Data and Visualization Tools\n",
    "!pip install pandas\n",
    "!pip install yfinance\n",
    "!pip install matplotlib\n",
    "!pip install numpy\n",
    "# Install Time Series Analysis and Machine Learning Libraries\n",
    "!pip install scikit-learn\n",
    "!pip install statsmodels\n",
    "!pip install pmdarima\n",
    "!pip install prophet"
   ]
  },
  {
   "cell_type": "code",
   "execution_count": 191,
   "id": "f53c8c0b-688a-476d-a9f4-bf551c6e49c7",
   "metadata": {},
   "outputs": [],
   "source": [
    "# Import Libraries\n",
    "import pandas as pd\n",
    "import yfinance as yf\n",
    "import matplotlib.pyplot as plt\n",
    "import numpy as np\n",
    "import scipy.stats as stats\n",
    "from sklearn.metrics import mean_squared_error\n",
    "from statsmodels.tsa.arima.model import ARIMA\n",
    "from statsmodels.tsa.holtwinters import ExponentialSmoothing\n",
    "import pmdarima as pm\n",
    "from prophet import Prophet"
   ]
  },
  {
   "cell_type": "markdown",
   "id": "a230d8f6-0805-4111-ab1b-2fa33d36a414",
   "metadata": {},
   "source": [
    "# Get Data"
   ]
  },
  {
   "cell_type": "code",
   "execution_count": 131,
   "id": "14dc1dc5-4fa3-40e5-9cab-cf0d97519d93",
   "metadata": {
    "scrolled": true
   },
   "outputs": [
    {
     "name": "stderr",
     "output_type": "stream",
     "text": [
      "C:\\Users\\leonh\\AppData\\Local\\Temp\\ipykernel_22372\\1259727014.py:3: FutureWarning: YF.download() has changed argument auto_adjust default to True\n",
      "  data=yf.download(tickers, start = '2014-01-01', end = '2025-01-01')\n",
      "[*********************100%***********************]  7 of 7 completed\n"
     ]
    },
    {
     "data": {
      "text/html": [
       "<div>\n",
       "<style scoped>\n",
       "    .dataframe tbody tr th:only-of-type {\n",
       "        vertical-align: middle;\n",
       "    }\n",
       "\n",
       "    .dataframe tbody tr th {\n",
       "        vertical-align: top;\n",
       "    }\n",
       "\n",
       "    .dataframe thead tr th {\n",
       "        text-align: left;\n",
       "    }\n",
       "\n",
       "    .dataframe thead tr:last-of-type th {\n",
       "        text-align: right;\n",
       "    }\n",
       "</style>\n",
       "<table border=\"1\" class=\"dataframe\">\n",
       "  <thead>\n",
       "    <tr>\n",
       "      <th>Price</th>\n",
       "      <th colspan=\"7\" halign=\"left\">Close</th>\n",
       "      <th colspan=\"3\" halign=\"left\">High</th>\n",
       "      <th>...</th>\n",
       "      <th colspan=\"3\" halign=\"left\">Open</th>\n",
       "      <th colspan=\"7\" halign=\"left\">Volume</th>\n",
       "    </tr>\n",
       "    <tr>\n",
       "      <th>Ticker</th>\n",
       "      <th>COST</th>\n",
       "      <th>DG</th>\n",
       "      <th>HD</th>\n",
       "      <th>LOW</th>\n",
       "      <th>TGT</th>\n",
       "      <th>TJX</th>\n",
       "      <th>WMT</th>\n",
       "      <th>COST</th>\n",
       "      <th>DG</th>\n",
       "      <th>HD</th>\n",
       "      <th>...</th>\n",
       "      <th>TGT</th>\n",
       "      <th>TJX</th>\n",
       "      <th>WMT</th>\n",
       "      <th>COST</th>\n",
       "      <th>DG</th>\n",
       "      <th>HD</th>\n",
       "      <th>LOW</th>\n",
       "      <th>TGT</th>\n",
       "      <th>TJX</th>\n",
       "      <th>WMT</th>\n",
       "    </tr>\n",
       "    <tr>\n",
       "      <th>Date</th>\n",
       "      <th></th>\n",
       "      <th></th>\n",
       "      <th></th>\n",
       "      <th></th>\n",
       "      <th></th>\n",
       "      <th></th>\n",
       "      <th></th>\n",
       "      <th></th>\n",
       "      <th></th>\n",
       "      <th></th>\n",
       "      <th></th>\n",
       "      <th></th>\n",
       "      <th></th>\n",
       "      <th></th>\n",
       "      <th></th>\n",
       "      <th></th>\n",
       "      <th></th>\n",
       "      <th></th>\n",
       "      <th></th>\n",
       "      <th></th>\n",
       "      <th></th>\n",
       "    </tr>\n",
       "  </thead>\n",
       "  <tbody>\n",
       "    <tr>\n",
       "      <th>2014-01-02</th>\n",
       "      <td>94.012115</td>\n",
       "      <td>53.548218</td>\n",
       "      <td>62.777782</td>\n",
       "      <td>40.045990</td>\n",
       "      <td>45.266071</td>\n",
       "      <td>27.123999</td>\n",
       "      <td>20.899691</td>\n",
       "      <td>95.201137</td>\n",
       "      <td>53.915704</td>\n",
       "      <td>63.198753</td>\n",
       "      <td>...</td>\n",
       "      <td>45.516832</td>\n",
       "      <td>27.072725</td>\n",
       "      <td>20.849368</td>\n",
       "      <td>1618400</td>\n",
       "      <td>6018200</td>\n",
       "      <td>4253400</td>\n",
       "      <td>5458300</td>\n",
       "      <td>7400100</td>\n",
       "      <td>4197000</td>\n",
       "      <td>20634000</td>\n",
       "    </tr>\n",
       "    <tr>\n",
       "      <th>2014-01-03</th>\n",
       "      <td>93.597160</td>\n",
       "      <td>53.355736</td>\n",
       "      <td>62.678288</td>\n",
       "      <td>39.649094</td>\n",
       "      <td>45.488186</td>\n",
       "      <td>27.175270</td>\n",
       "      <td>20.830822</td>\n",
       "      <td>94.451018</td>\n",
       "      <td>54.046964</td>\n",
       "      <td>63.129874</td>\n",
       "      <td>...</td>\n",
       "      <td>45.581324</td>\n",
       "      <td>27.029993</td>\n",
       "      <td>20.873199</td>\n",
       "      <td>1293500</td>\n",
       "      <td>2697800</td>\n",
       "      <td>3897900</td>\n",
       "      <td>4257500</td>\n",
       "      <td>4589400</td>\n",
       "      <td>3302600</td>\n",
       "      <td>14872200</td>\n",
       "    </tr>\n",
       "    <tr>\n",
       "      <th>2014-01-06</th>\n",
       "      <td>92.886978</td>\n",
       "      <td>52.157028</td>\n",
       "      <td>62.073627</td>\n",
       "      <td>39.090202</td>\n",
       "      <td>45.180096</td>\n",
       "      <td>26.880447</td>\n",
       "      <td>20.714289</td>\n",
       "      <td>93.964274</td>\n",
       "      <td>53.661980</td>\n",
       "      <td>62.747180</td>\n",
       "      <td>...</td>\n",
       "      <td>45.624301</td>\n",
       "      <td>27.269276</td>\n",
       "      <td>20.886445</td>\n",
       "      <td>2120200</td>\n",
       "      <td>4007800</td>\n",
       "      <td>11188800</td>\n",
       "      <td>4923000</td>\n",
       "      <td>4609600</td>\n",
       "      <td>6277000</td>\n",
       "      <td>21840600</td>\n",
       "    </tr>\n",
       "    <tr>\n",
       "      <th>2014-01-07</th>\n",
       "      <td>92.456017</td>\n",
       "      <td>52.402012</td>\n",
       "      <td>62.379795</td>\n",
       "      <td>39.187397</td>\n",
       "      <td>45.072624</td>\n",
       "      <td>26.995813</td>\n",
       "      <td>20.777851</td>\n",
       "      <td>93.014613</td>\n",
       "      <td>52.865745</td>\n",
       "      <td>62.701260</td>\n",
       "      <td>...</td>\n",
       "      <td>45.158599</td>\n",
       "      <td>26.918902</td>\n",
       "      <td>20.703693</td>\n",
       "      <td>2292500</td>\n",
       "      <td>2584500</td>\n",
       "      <td>4630900</td>\n",
       "      <td>5541900</td>\n",
       "      <td>5398300</td>\n",
       "      <td>6293800</td>\n",
       "      <td>15036900</td>\n",
       "    </tr>\n",
       "    <tr>\n",
       "      <th>2014-01-08</th>\n",
       "      <td>91.011642</td>\n",
       "      <td>52.235764</td>\n",
       "      <td>62.708900</td>\n",
       "      <td>39.325096</td>\n",
       "      <td>44.915005</td>\n",
       "      <td>27.132540</td>\n",
       "      <td>20.613646</td>\n",
       "      <td>92.599656</td>\n",
       "      <td>52.550754</td>\n",
       "      <td>62.716556</td>\n",
       "      <td>...</td>\n",
       "      <td>45.000982</td>\n",
       "      <td>27.038537</td>\n",
       "      <td>20.791100</td>\n",
       "      <td>4600000</td>\n",
       "      <td>4418700</td>\n",
       "      <td>4662300</td>\n",
       "      <td>4875800</td>\n",
       "      <td>5529900</td>\n",
       "      <td>6096000</td>\n",
       "      <td>17865600</td>\n",
       "    </tr>\n",
       "    <tr>\n",
       "      <th>...</th>\n",
       "      <td>...</td>\n",
       "      <td>...</td>\n",
       "      <td>...</td>\n",
       "      <td>...</td>\n",
       "      <td>...</td>\n",
       "      <td>...</td>\n",
       "      <td>...</td>\n",
       "      <td>...</td>\n",
       "      <td>...</td>\n",
       "      <td>...</td>\n",
       "      <td>...</td>\n",
       "      <td>...</td>\n",
       "      <td>...</td>\n",
       "      <td>...</td>\n",
       "      <td>...</td>\n",
       "      <td>...</td>\n",
       "      <td>...</td>\n",
       "      <td>...</td>\n",
       "      <td>...</td>\n",
       "      <td>...</td>\n",
       "      <td>...</td>\n",
       "    </tr>\n",
       "    <tr>\n",
       "      <th>2024-12-24</th>\n",
       "      <td>955.192139</td>\n",
       "      <td>73.211266</td>\n",
       "      <td>391.210724</td>\n",
       "      <td>246.512604</td>\n",
       "      <td>129.796585</td>\n",
       "      <td>122.719109</td>\n",
       "      <td>92.203255</td>\n",
       "      <td>955.750017</td>\n",
       "      <td>73.574186</td>\n",
       "      <td>391.210724</td>\n",
       "      <td>...</td>\n",
       "      <td>129.277008</td>\n",
       "      <td>121.228472</td>\n",
       "      <td>89.905140</td>\n",
       "      <td>939000</td>\n",
       "      <td>1542300</td>\n",
       "      <td>1392600</td>\n",
       "      <td>992100</td>\n",
       "      <td>1647700</td>\n",
       "      <td>1476100</td>\n",
       "      <td>8992400</td>\n",
       "    </tr>\n",
       "    <tr>\n",
       "      <th>2024-12-26</th>\n",
       "      <td>952.522278</td>\n",
       "      <td>74.182312</td>\n",
       "      <td>390.223175</td>\n",
       "      <td>245.734299</td>\n",
       "      <td>133.708115</td>\n",
       "      <td>124.229622</td>\n",
       "      <td>92.312691</td>\n",
       "      <td>955.779864</td>\n",
       "      <td>74.368677</td>\n",
       "      <td>390.855196</td>\n",
       "      <td>...</td>\n",
       "      <td>129.855399</td>\n",
       "      <td>122.679355</td>\n",
       "      <td>92.063977</td>\n",
       "      <td>969000</td>\n",
       "      <td>3600700</td>\n",
       "      <td>1319500</td>\n",
       "      <td>1435200</td>\n",
       "      <td>5042000</td>\n",
       "      <td>2892800</td>\n",
       "      <td>10994000</td>\n",
       "    </tr>\n",
       "    <tr>\n",
       "      <th>2024-12-27</th>\n",
       "      <td>936.144531</td>\n",
       "      <td>74.437340</td>\n",
       "      <td>387.971527</td>\n",
       "      <td>244.660446</td>\n",
       "      <td>132.835632</td>\n",
       "      <td>123.166306</td>\n",
       "      <td>91.188515</td>\n",
       "      <td>946.853857</td>\n",
       "      <td>75.055278</td>\n",
       "      <td>390.549066</td>\n",
       "      <td>...</td>\n",
       "      <td>132.472913</td>\n",
       "      <td>123.146426</td>\n",
       "      <td>91.656091</td>\n",
       "      <td>1943400</td>\n",
       "      <td>2659700</td>\n",
       "      <td>1942700</td>\n",
       "      <td>1581100</td>\n",
       "      <td>3089000</td>\n",
       "      <td>3471500</td>\n",
       "      <td>11384400</td>\n",
       "    </tr>\n",
       "    <tr>\n",
       "      <th>2024-12-30</th>\n",
       "      <td>918.720703</td>\n",
       "      <td>74.241173</td>\n",
       "      <td>384.584198</td>\n",
       "      <td>243.074295</td>\n",
       "      <td>132.394485</td>\n",
       "      <td>120.334091</td>\n",
       "      <td>90.104111</td>\n",
       "      <td>930.635412</td>\n",
       "      <td>74.780640</td>\n",
       "      <td>386.342048</td>\n",
       "      <td>...</td>\n",
       "      <td>131.757258</td>\n",
       "      <td>121.447102</td>\n",
       "      <td>90.263291</td>\n",
       "      <td>1881200</td>\n",
       "      <td>3775400</td>\n",
       "      <td>2444700</td>\n",
       "      <td>1622800</td>\n",
       "      <td>3945600</td>\n",
       "      <td>3976600</td>\n",
       "      <td>9790200</td>\n",
       "    </tr>\n",
       "    <tr>\n",
       "      <th>2024-12-31</th>\n",
       "      <td>912.803162</td>\n",
       "      <td>74.368683</td>\n",
       "      <td>384.149689</td>\n",
       "      <td>243.143265</td>\n",
       "      <td>132.521912</td>\n",
       "      <td>120.055840</td>\n",
       "      <td>89.885246</td>\n",
       "      <td>921.241085</td>\n",
       "      <td>74.868923</td>\n",
       "      <td>386.588955</td>\n",
       "      <td>...</td>\n",
       "      <td>132.835627</td>\n",
       "      <td>121.129099</td>\n",
       "      <td>90.104116</td>\n",
       "      <td>1742900</td>\n",
       "      <td>3500400</td>\n",
       "      <td>2179700</td>\n",
       "      <td>1397900</td>\n",
       "      <td>2830200</td>\n",
       "      <td>3600100</td>\n",
       "      <td>11267700</td>\n",
       "    </tr>\n",
       "  </tbody>\n",
       "</table>\n",
       "<p>2768 rows × 35 columns</p>\n",
       "</div>"
      ],
      "text/plain": [
       "Price            Close                                                 \\\n",
       "Ticker            COST         DG          HD         LOW         TGT   \n",
       "Date                                                                    \n",
       "2014-01-02   94.012115  53.548218   62.777782   40.045990   45.266071   \n",
       "2014-01-03   93.597160  53.355736   62.678288   39.649094   45.488186   \n",
       "2014-01-06   92.886978  52.157028   62.073627   39.090202   45.180096   \n",
       "2014-01-07   92.456017  52.402012   62.379795   39.187397   45.072624   \n",
       "2014-01-08   91.011642  52.235764   62.708900   39.325096   44.915005   \n",
       "...                ...        ...         ...         ...         ...   \n",
       "2024-12-24  955.192139  73.211266  391.210724  246.512604  129.796585   \n",
       "2024-12-26  952.522278  74.182312  390.223175  245.734299  133.708115   \n",
       "2024-12-27  936.144531  74.437340  387.971527  244.660446  132.835632   \n",
       "2024-12-30  918.720703  74.241173  384.584198  243.074295  132.394485   \n",
       "2024-12-31  912.803162  74.368683  384.149689  243.143265  132.521912   \n",
       "\n",
       "Price                                    High                         ...  \\\n",
       "Ticker             TJX        WMT        COST         DG          HD  ...   \n",
       "Date                                                                  ...   \n",
       "2014-01-02   27.123999  20.899691   95.201137  53.915704   63.198753  ...   \n",
       "2014-01-03   27.175270  20.830822   94.451018  54.046964   63.129874  ...   \n",
       "2014-01-06   26.880447  20.714289   93.964274  53.661980   62.747180  ...   \n",
       "2014-01-07   26.995813  20.777851   93.014613  52.865745   62.701260  ...   \n",
       "2014-01-08   27.132540  20.613646   92.599656  52.550754   62.716556  ...   \n",
       "...                ...        ...         ...        ...         ...  ...   \n",
       "2024-12-24  122.719109  92.203255  955.750017  73.574186  391.210724  ...   \n",
       "2024-12-26  124.229622  92.312691  955.779864  74.368677  390.855196  ...   \n",
       "2024-12-27  123.166306  91.188515  946.853857  75.055278  390.549066  ...   \n",
       "2024-12-30  120.334091  90.104111  930.635412  74.780640  386.342048  ...   \n",
       "2024-12-31  120.055840  89.885246  921.241085  74.868923  386.588955  ...   \n",
       "\n",
       "Price             Open                          Volume                     \\\n",
       "Ticker             TGT         TJX        WMT     COST       DG        HD   \n",
       "Date                                                                        \n",
       "2014-01-02   45.516832   27.072725  20.849368  1618400  6018200   4253400   \n",
       "2014-01-03   45.581324   27.029993  20.873199  1293500  2697800   3897900   \n",
       "2014-01-06   45.624301   27.269276  20.886445  2120200  4007800  11188800   \n",
       "2014-01-07   45.158599   26.918902  20.703693  2292500  2584500   4630900   \n",
       "2014-01-08   45.000982   27.038537  20.791100  4600000  4418700   4662300   \n",
       "...                ...         ...        ...      ...      ...       ...   \n",
       "2024-12-24  129.277008  121.228472  89.905140   939000  1542300   1392600   \n",
       "2024-12-26  129.855399  122.679355  92.063977   969000  3600700   1319500   \n",
       "2024-12-27  132.472913  123.146426  91.656091  1943400  2659700   1942700   \n",
       "2024-12-30  131.757258  121.447102  90.263291  1881200  3775400   2444700   \n",
       "2024-12-31  132.835627  121.129099  90.104116  1742900  3500400   2179700   \n",
       "\n",
       "Price                                            \n",
       "Ticker          LOW      TGT      TJX       WMT  \n",
       "Date                                             \n",
       "2014-01-02  5458300  7400100  4197000  20634000  \n",
       "2014-01-03  4257500  4589400  3302600  14872200  \n",
       "2014-01-06  4923000  4609600  6277000  21840600  \n",
       "2014-01-07  5541900  5398300  6293800  15036900  \n",
       "2014-01-08  4875800  5529900  6096000  17865600  \n",
       "...             ...      ...      ...       ...  \n",
       "2024-12-24   992100  1647700  1476100   8992400  \n",
       "2024-12-26  1435200  5042000  2892800  10994000  \n",
       "2024-12-27  1581100  3089000  3471500  11384400  \n",
       "2024-12-30  1622800  3945600  3976600   9790200  \n",
       "2024-12-31  1397900  2830200  3600100  11267700  \n",
       "\n",
       "[2768 rows x 35 columns]"
      ]
     },
     "execution_count": 131,
     "metadata": {},
     "output_type": "execute_result"
    }
   ],
   "source": [
    "# Get the list of stock tickers\n",
    "tickers = ['WMT', 'TGT', 'COST', 'HD', 'DG', 'LOW', 'TJX']\n",
    "data=yf.download(tickers, start = '2014-01-01', end = '2025-01-01')\n",
    "data"
   ]
  },
  {
   "cell_type": "code",
   "execution_count": 132,
   "id": "c6f20ee5-6d37-4777-9d48-15d96f771b5d",
   "metadata": {},
   "outputs": [
    {
     "name": "stderr",
     "output_type": "stream",
     "text": [
      "C:\\Users\\leonh\\AppData\\Local\\Temp\\ipykernel_22372\\1274870986.py:2: FutureWarning: YF.download() has changed argument auto_adjust default to True\n",
      "  curr_data=yf.download(tickers, start = '2025-01-01', end = None)\n",
      "[*********************100%***********************]  7 of 7 completed\n"
     ]
    },
    {
     "data": {
      "text/html": [
       "<div>\n",
       "<style scoped>\n",
       "    .dataframe tbody tr th:only-of-type {\n",
       "        vertical-align: middle;\n",
       "    }\n",
       "\n",
       "    .dataframe tbody tr th {\n",
       "        vertical-align: top;\n",
       "    }\n",
       "\n",
       "    .dataframe thead tr th {\n",
       "        text-align: left;\n",
       "    }\n",
       "\n",
       "    .dataframe thead tr:last-of-type th {\n",
       "        text-align: right;\n",
       "    }\n",
       "</style>\n",
       "<table border=\"1\" class=\"dataframe\">\n",
       "  <thead>\n",
       "    <tr>\n",
       "      <th>Price</th>\n",
       "      <th colspan=\"7\" halign=\"left\">Close</th>\n",
       "      <th colspan=\"3\" halign=\"left\">High</th>\n",
       "      <th>...</th>\n",
       "      <th colspan=\"3\" halign=\"left\">Open</th>\n",
       "      <th colspan=\"7\" halign=\"left\">Volume</th>\n",
       "    </tr>\n",
       "    <tr>\n",
       "      <th>Ticker</th>\n",
       "      <th>COST</th>\n",
       "      <th>DG</th>\n",
       "      <th>HD</th>\n",
       "      <th>LOW</th>\n",
       "      <th>TGT</th>\n",
       "      <th>TJX</th>\n",
       "      <th>WMT</th>\n",
       "      <th>COST</th>\n",
       "      <th>DG</th>\n",
       "      <th>HD</th>\n",
       "      <th>...</th>\n",
       "      <th>TGT</th>\n",
       "      <th>TJX</th>\n",
       "      <th>WMT</th>\n",
       "      <th>COST</th>\n",
       "      <th>DG</th>\n",
       "      <th>HD</th>\n",
       "      <th>LOW</th>\n",
       "      <th>TGT</th>\n",
       "      <th>TJX</th>\n",
       "      <th>WMT</th>\n",
       "    </tr>\n",
       "    <tr>\n",
       "      <th>Date</th>\n",
       "      <th></th>\n",
       "      <th></th>\n",
       "      <th></th>\n",
       "      <th></th>\n",
       "      <th></th>\n",
       "      <th></th>\n",
       "      <th></th>\n",
       "      <th></th>\n",
       "      <th></th>\n",
       "      <th></th>\n",
       "      <th></th>\n",
       "      <th></th>\n",
       "      <th></th>\n",
       "      <th></th>\n",
       "      <th></th>\n",
       "      <th></th>\n",
       "      <th></th>\n",
       "      <th></th>\n",
       "      <th></th>\n",
       "      <th></th>\n",
       "      <th></th>\n",
       "    </tr>\n",
       "  </thead>\n",
       "  <tbody>\n",
       "    <tr>\n",
       "      <th>2025-01-02</th>\n",
       "      <td>906.367615</td>\n",
       "      <td>74.182320</td>\n",
       "      <td>383.626282</td>\n",
       "      <td>243.320602</td>\n",
       "      <td>134.492401</td>\n",
       "      <td>120.393715</td>\n",
       "      <td>89.537041</td>\n",
       "      <td>922.267250</td>\n",
       "      <td>76.546192</td>\n",
       "      <td>387.783917</td>\n",
       "      <td>...</td>\n",
       "      <td>133.080714</td>\n",
       "      <td>120.950217</td>\n",
       "      <td>89.517147</td>\n",
       "      <td>1765100</td>\n",
       "      <td>2673700</td>\n",
       "      <td>2415700</td>\n",
       "      <td>2741000</td>\n",
       "      <td>4358300</td>\n",
       "      <td>3424400</td>\n",
       "      <td>14820400</td>\n",
       "    </tr>\n",
       "    <tr>\n",
       "      <th>2025-01-03</th>\n",
       "      <td>913.112000</td>\n",
       "      <td>73.240685</td>\n",
       "      <td>384.337311</td>\n",
       "      <td>244.798370</td>\n",
       "      <td>133.119919</td>\n",
       "      <td>119.976349</td>\n",
       "      <td>90.313034</td>\n",
       "      <td>920.713135</td>\n",
       "      <td>74.456954</td>\n",
       "      <td>386.144556</td>\n",
       "      <td>...</td>\n",
       "      <td>134.982568</td>\n",
       "      <td>120.791230</td>\n",
       "      <td>89.686277</td>\n",
       "      <td>1612200</td>\n",
       "      <td>3120000</td>\n",
       "      <td>2231600</td>\n",
       "      <td>1889200</td>\n",
       "      <td>4025200</td>\n",
       "      <td>3897200</td>\n",
       "      <td>10834600</td>\n",
       "    </tr>\n",
       "    <tr>\n",
       "      <th>2025-01-06</th>\n",
       "      <td>919.218811</td>\n",
       "      <td>74.398102</td>\n",
       "      <td>384.524963</td>\n",
       "      <td>246.039703</td>\n",
       "      <td>136.551102</td>\n",
       "      <td>120.125404</td>\n",
       "      <td>90.959686</td>\n",
       "      <td>923.900979</td>\n",
       "      <td>75.967474</td>\n",
       "      <td>389.087471</td>\n",
       "      <td>...</td>\n",
       "      <td>134.325748</td>\n",
       "      <td>119.986279</td>\n",
       "      <td>90.362774</td>\n",
       "      <td>1970400</td>\n",
       "      <td>3234400</td>\n",
       "      <td>3274500</td>\n",
       "      <td>2573400</td>\n",
       "      <td>4937900</td>\n",
       "      <td>5963400</td>\n",
       "      <td>14519900</td>\n",
       "    </tr>\n",
       "    <tr>\n",
       "      <th>2025-01-07</th>\n",
       "      <td>917.883850</td>\n",
       "      <td>73.320587</td>\n",
       "      <td>379.448914</td>\n",
       "      <td>242.916672</td>\n",
       "      <td>136.511902</td>\n",
       "      <td>119.390022</td>\n",
       "      <td>90.342873</td>\n",
       "      <td>927.786243</td>\n",
       "      <td>77.106727</td>\n",
       "      <td>387.023456</td>\n",
       "      <td>...</td>\n",
       "      <td>137.178524</td>\n",
       "      <td>120.334089</td>\n",
       "      <td>91.228294</td>\n",
       "      <td>1888000</td>\n",
       "      <td>3592200</td>\n",
       "      <td>2274300</td>\n",
       "      <td>1803500</td>\n",
       "      <td>4166100</td>\n",
       "      <td>4500100</td>\n",
       "      <td>11238000</td>\n",
       "    </tr>\n",
       "    <tr>\n",
       "      <th>2025-01-08</th>\n",
       "      <td>923.861145</td>\n",
       "      <td>70.799797</td>\n",
       "      <td>382.381958</td>\n",
       "      <td>243.231934</td>\n",
       "      <td>135.502136</td>\n",
       "      <td>120.890594</td>\n",
       "      <td>91.327789</td>\n",
       "      <td>926.979307</td>\n",
       "      <td>73.152538</td>\n",
       "      <td>382.865851</td>\n",
       "      <td>...</td>\n",
       "      <td>136.266798</td>\n",
       "      <td>119.419830</td>\n",
       "      <td>90.641336</td>\n",
       "      <td>1774800</td>\n",
       "      <td>5786100</td>\n",
       "      <td>2848500</td>\n",
       "      <td>2364900</td>\n",
       "      <td>4663400</td>\n",
       "      <td>5219200</td>\n",
       "      <td>13453600</td>\n",
       "    </tr>\n",
       "    <tr>\n",
       "      <th>...</th>\n",
       "      <td>...</td>\n",
       "      <td>...</td>\n",
       "      <td>...</td>\n",
       "      <td>...</td>\n",
       "      <td>...</td>\n",
       "      <td>...</td>\n",
       "      <td>...</td>\n",
       "      <td>...</td>\n",
       "      <td>...</td>\n",
       "      <td>...</td>\n",
       "      <td>...</td>\n",
       "      <td>...</td>\n",
       "      <td>...</td>\n",
       "      <td>...</td>\n",
       "      <td>...</td>\n",
       "      <td>...</td>\n",
       "      <td>...</td>\n",
       "      <td>...</td>\n",
       "      <td>...</td>\n",
       "      <td>...</td>\n",
       "      <td>...</td>\n",
       "    </tr>\n",
       "    <tr>\n",
       "      <th>2025-08-01</th>\n",
       "      <td>952.520020</td>\n",
       "      <td>108.529999</td>\n",
       "      <td>373.660004</td>\n",
       "      <td>226.399994</td>\n",
       "      <td>99.769997</td>\n",
       "      <td>126.000000</td>\n",
       "      <td>98.489998</td>\n",
       "      <td>956.719971</td>\n",
       "      <td>109.029999</td>\n",
       "      <td>374.799988</td>\n",
       "      <td>...</td>\n",
       "      <td>99.519997</td>\n",
       "      <td>124.110001</td>\n",
       "      <td>98.000000</td>\n",
       "      <td>2934500</td>\n",
       "      <td>4216800</td>\n",
       "      <td>3008200</td>\n",
       "      <td>3400900</td>\n",
       "      <td>5021700</td>\n",
       "      <td>4855400</td>\n",
       "      <td>16750400</td>\n",
       "    </tr>\n",
       "    <tr>\n",
       "      <th>2025-08-04</th>\n",
       "      <td>955.369995</td>\n",
       "      <td>110.940002</td>\n",
       "      <td>380.820007</td>\n",
       "      <td>233.809998</td>\n",
       "      <td>99.790001</td>\n",
       "      <td>129.220001</td>\n",
       "      <td>99.589996</td>\n",
       "      <td>960.179993</td>\n",
       "      <td>111.230003</td>\n",
       "      <td>381.899994</td>\n",
       "      <td>...</td>\n",
       "      <td>100.010002</td>\n",
       "      <td>126.419998</td>\n",
       "      <td>98.199997</td>\n",
       "      <td>2389900</td>\n",
       "      <td>3329000</td>\n",
       "      <td>2844300</td>\n",
       "      <td>3871300</td>\n",
       "      <td>5312700</td>\n",
       "      <td>4807800</td>\n",
       "      <td>19050200</td>\n",
       "    </tr>\n",
       "    <tr>\n",
       "      <th>2025-08-05</th>\n",
       "      <td>943.630005</td>\n",
       "      <td>110.860001</td>\n",
       "      <td>385.410004</td>\n",
       "      <td>237.460007</td>\n",
       "      <td>102.430000</td>\n",
       "      <td>128.770004</td>\n",
       "      <td>99.309998</td>\n",
       "      <td>951.500000</td>\n",
       "      <td>111.650002</td>\n",
       "      <td>386.940002</td>\n",
       "      <td>...</td>\n",
       "      <td>100.059998</td>\n",
       "      <td>129.229996</td>\n",
       "      <td>99.669998</td>\n",
       "      <td>2462300</td>\n",
       "      <td>2972700</td>\n",
       "      <td>2931400</td>\n",
       "      <td>3107000</td>\n",
       "      <td>5093400</td>\n",
       "      <td>5178400</td>\n",
       "      <td>17977000</td>\n",
       "    </tr>\n",
       "    <tr>\n",
       "      <th>2025-08-06</th>\n",
       "      <td>968.559998</td>\n",
       "      <td>113.320000</td>\n",
       "      <td>386.799988</td>\n",
       "      <td>238.289993</td>\n",
       "      <td>105.389999</td>\n",
       "      <td>132.100006</td>\n",
       "      <td>103.360001</td>\n",
       "      <td>970.549988</td>\n",
       "      <td>114.300003</td>\n",
       "      <td>388.929993</td>\n",
       "      <td>...</td>\n",
       "      <td>103.470001</td>\n",
       "      <td>128.910004</td>\n",
       "      <td>99.459999</td>\n",
       "      <td>2753000</td>\n",
       "      <td>2859600</td>\n",
       "      <td>2812800</td>\n",
       "      <td>2448700</td>\n",
       "      <td>6306600</td>\n",
       "      <td>4839400</td>\n",
       "      <td>23738400</td>\n",
       "    </tr>\n",
       "    <tr>\n",
       "      <th>2025-08-07</th>\n",
       "      <td>977.450012</td>\n",
       "      <td>115.629997</td>\n",
       "      <td>386.170013</td>\n",
       "      <td>238.559998</td>\n",
       "      <td>105.669998</td>\n",
       "      <td>131.979996</td>\n",
       "      <td>103.120003</td>\n",
       "      <td>982.000000</td>\n",
       "      <td>115.830002</td>\n",
       "      <td>391.450012</td>\n",
       "      <td>...</td>\n",
       "      <td>106.500000</td>\n",
       "      <td>132.710007</td>\n",
       "      <td>103.459999</td>\n",
       "      <td>1891700</td>\n",
       "      <td>2678500</td>\n",
       "      <td>2433000</td>\n",
       "      <td>1948300</td>\n",
       "      <td>4189200</td>\n",
       "      <td>6153800</td>\n",
       "      <td>12503900</td>\n",
       "    </tr>\n",
       "  </tbody>\n",
       "</table>\n",
       "<p>149 rows × 35 columns</p>\n",
       "</div>"
      ],
      "text/plain": [
       "Price            Close                                                  \\\n",
       "Ticker            COST          DG          HD         LOW         TGT   \n",
       "Date                                                                     \n",
       "2025-01-02  906.367615   74.182320  383.626282  243.320602  134.492401   \n",
       "2025-01-03  913.112000   73.240685  384.337311  244.798370  133.119919   \n",
       "2025-01-06  919.218811   74.398102  384.524963  246.039703  136.551102   \n",
       "2025-01-07  917.883850   73.320587  379.448914  242.916672  136.511902   \n",
       "2025-01-08  923.861145   70.799797  382.381958  243.231934  135.502136   \n",
       "...                ...         ...         ...         ...         ...   \n",
       "2025-08-01  952.520020  108.529999  373.660004  226.399994   99.769997   \n",
       "2025-08-04  955.369995  110.940002  380.820007  233.809998   99.790001   \n",
       "2025-08-05  943.630005  110.860001  385.410004  237.460007  102.430000   \n",
       "2025-08-06  968.559998  113.320000  386.799988  238.289993  105.389999   \n",
       "2025-08-07  977.450012  115.629997  386.170013  238.559998  105.669998   \n",
       "\n",
       "Price                                     High                          ...  \\\n",
       "Ticker             TJX         WMT        COST          DG          HD  ...   \n",
       "Date                                                                    ...   \n",
       "2025-01-02  120.393715   89.537041  922.267250   76.546192  387.783917  ...   \n",
       "2025-01-03  119.976349   90.313034  920.713135   74.456954  386.144556  ...   \n",
       "2025-01-06  120.125404   90.959686  923.900979   75.967474  389.087471  ...   \n",
       "2025-01-07  119.390022   90.342873  927.786243   77.106727  387.023456  ...   \n",
       "2025-01-08  120.890594   91.327789  926.979307   73.152538  382.865851  ...   \n",
       "...                ...         ...         ...         ...         ...  ...   \n",
       "2025-08-01  126.000000   98.489998  956.719971  109.029999  374.799988  ...   \n",
       "2025-08-04  129.220001   99.589996  960.179993  111.230003  381.899994  ...   \n",
       "2025-08-05  128.770004   99.309998  951.500000  111.650002  386.940002  ...   \n",
       "2025-08-06  132.100006  103.360001  970.549988  114.300003  388.929993  ...   \n",
       "2025-08-07  131.979996  103.120003  982.000000  115.830002  391.450012  ...   \n",
       "\n",
       "Price             Open                           Volume                    \\\n",
       "Ticker             TGT         TJX         WMT     COST       DG       HD   \n",
       "Date                                                                        \n",
       "2025-01-02  133.080714  120.950217   89.517147  1765100  2673700  2415700   \n",
       "2025-01-03  134.982568  120.791230   89.686277  1612200  3120000  2231600   \n",
       "2025-01-06  134.325748  119.986279   90.362774  1970400  3234400  3274500   \n",
       "2025-01-07  137.178524  120.334089   91.228294  1888000  3592200  2274300   \n",
       "2025-01-08  136.266798  119.419830   90.641336  1774800  5786100  2848500   \n",
       "...                ...         ...         ...      ...      ...      ...   \n",
       "2025-08-01   99.519997  124.110001   98.000000  2934500  4216800  3008200   \n",
       "2025-08-04  100.010002  126.419998   98.199997  2389900  3329000  2844300   \n",
       "2025-08-05  100.059998  129.229996   99.669998  2462300  2972700  2931400   \n",
       "2025-08-06  103.470001  128.910004   99.459999  2753000  2859600  2812800   \n",
       "2025-08-07  106.500000  132.710007  103.459999  1891700  2678500  2433000   \n",
       "\n",
       "Price                                            \n",
       "Ticker          LOW      TGT      TJX       WMT  \n",
       "Date                                             \n",
       "2025-01-02  2741000  4358300  3424400  14820400  \n",
       "2025-01-03  1889200  4025200  3897200  10834600  \n",
       "2025-01-06  2573400  4937900  5963400  14519900  \n",
       "2025-01-07  1803500  4166100  4500100  11238000  \n",
       "2025-01-08  2364900  4663400  5219200  13453600  \n",
       "...             ...      ...      ...       ...  \n",
       "2025-08-01  3400900  5021700  4855400  16750400  \n",
       "2025-08-04  3871300  5312700  4807800  19050200  \n",
       "2025-08-05  3107000  5093400  5178400  17977000  \n",
       "2025-08-06  2448700  6306600  4839400  23738400  \n",
       "2025-08-07  1948300  4189200  6153800  12503900  \n",
       "\n",
       "[149 rows x 35 columns]"
      ]
     },
     "execution_count": 132,
     "metadata": {},
     "output_type": "execute_result"
    }
   ],
   "source": [
    "# Get the list of stock tickers\n",
    "curr_data=yf.download(tickers, start = '2025-01-01', end = None)\n",
    "curr_data"
   ]
  },
  {
   "cell_type": "code",
   "execution_count": 133,
   "id": "34a24618-fb3b-49d0-8393-4c2999d79fd2",
   "metadata": {},
   "outputs": [],
   "source": [
    "monthly_data=data['Close'].asfreq('ME', method='pad')\n",
    "wmt_data=monthly_data['WMT']\n",
    "tgt_data=monthly_data['TGT']\n",
    "cost_data=monthly_data['COST']\n",
    "hd_data=monthly_data['HD']\n",
    "dg_data=monthly_data['DG']\n",
    "low_data=monthly_data['LOW']\n",
    "tjx_data=monthly_data['TJX']"
   ]
  },
  {
   "cell_type": "code",
   "execution_count": 134,
   "id": "59ccf7df-0745-4d8c-a0b2-c14c61516175",
   "metadata": {},
   "outputs": [],
   "source": [
    "curr_monthly_data=curr_data['Close'].asfreq('ME', method='pad')\n",
    "curr_wmt_data=curr_monthly_data['WMT']\n",
    "curr_tgt_data=curr_monthly_data['TGT']\n",
    "curr_cost_data=curr_monthly_data['COST']\n",
    "curr_hd_data=curr_monthly_data['HD']\n",
    "curr_dg_data=curr_monthly_data['DG']\n",
    "curr_low_data=curr_monthly_data['LOW']\n",
    "curr_tjx_data=curr_monthly_data['TJX']"
   ]
  },
  {
   "cell_type": "code",
   "execution_count": 13,
   "id": "cdd97ac4-98ba-42eb-8013-6031cb230ef8",
   "metadata": {},
   "outputs": [
    {
     "data": {
      "image/png": "[encoded data removed]",
      "text/plain": [
       "<Figure size 1200x600 with 1 Axes>"
      ]
     },
     "metadata": {},
     "output_type": "display_data"
    }
   ],
   "source": [
    "plt.figure(figsize=(12, 6))\n",
    "for column in monthly_data.columns:\n",
    "    plt.plot(monthly_data[column], label=column)\n",
    "plt.title('American Retail Stock Price Over Time')\n",
    "plt.xlabel('Date')\n",
    "plt.ylabel('Prices')\n",
    "plt.grid(False)\n",
    "plt.legend(title='Stocks')\n",
    "plt.show()"
   ]
  },
  {
   "cell_type": "markdown",
   "id": "94623f36-69e4-47cf-8e2f-a5bedc22b5d6",
   "metadata": {},
   "source": [
    "# Method 1: Manual ARIMA Model"
   ]
  },
  {
   "cell_type": "code",
   "execution_count": 79,
   "id": "6e31db35-39e6-4f32-a13f-d29af3f549af",
   "metadata": {},
   "outputs": [],
   "source": [
    "def method1(data):\n",
    "    model = ARIMA(data, order=(1,1,1))\n",
    "    results = model.fit()\n",
    "    forecast = results.forecast(steps=5)\n",
    "    return forecast"
   ]
  },
  {
   "cell_type": "code",
   "execution_count": 80,
   "id": "aa1f1772-0940-480d-9f30-07e19d82c7fc",
   "metadata": {},
   "outputs": [],
   "source": [
    "def method1_custom(data, order_tuple):\n",
    "    model = ARIMA(data, order=order_tuple)\n",
    "    results = model.fit()\n",
    "    forecast = results.forecast(steps=5)\n",
    "    return forecast"
   ]
  },
  {
   "cell_type": "code",
   "execution_count": 108,
   "id": "b604a89b-8952-4c5f-999d-2de48c9eb3aa",
   "metadata": {},
   "outputs": [
    {
     "name": "stderr",
     "output_type": "stream",
     "text": [
      "C:\\Users\\leonh\\anaconda3\\Lib\\site-packages\\statsmodels\\tsa\\statespace\\sarimax.py:966: UserWarning: Non-stationary starting autoregressive parameters found. Using zeros as starting parameters.\n",
      "  warn('Non-stationary starting autoregressive parameters'\n",
      "C:\\Users\\leonh\\anaconda3\\Lib\\site-packages\\statsmodels\\tsa\\statespace\\sarimax.py:978: UserWarning: Non-invertible starting MA parameters found. Using zeros as starting parameters.\n",
      "  warn('Non-invertible starting MA parameters found.'\n"
     ]
    },
    {
     "data": {
      "text/plain": [
       "(2025-01-31    91.711863\n",
       " 2025-02-28    93.516823\n",
       " 2025-03-31    95.300385\n",
       " 2025-04-30    97.062802\n",
       " 2025-05-31    98.804323\n",
       " Freq: ME, Name: predicted_mean, dtype: float64,\n",
       " Date\n",
       " 2025-01-31    97.655075\n",
       " 2025-02-28    98.102753\n",
       " 2025-03-31    87.578255\n",
       " 2025-04-30    97.015434\n",
       " 2025-05-31    98.720001\n",
       " Freq: ME, Name: WMT, dtype: float64)"
      ]
     },
     "execution_count": 108,
     "metadata": {},
     "output_type": "execute_result"
    }
   ],
   "source": [
    "m1_wmt_forecast = method1(wmt_data)\n",
    "m1_wmt_forecast, curr_wmt_data.head()"
   ]
  },
  {
   "cell_type": "code",
   "execution_count": 125,
   "id": "723da734-465f-4dfb-ba66-9e0ab280e0ab",
   "metadata": {},
   "outputs": [
    {
     "name": "stderr",
     "output_type": "stream",
     "text": [
      "C:\\Users\\leonh\\anaconda3\\Lib\\site-packages\\statsmodels\\tsa\\statespace\\sarimax.py:966: UserWarning: Non-stationary starting autoregressive parameters found. Using zeros as starting parameters.\n",
      "  warn('Non-stationary starting autoregressive parameters'\n",
      "C:\\Users\\leonh\\anaconda3\\Lib\\site-packages\\statsmodels\\tsa\\statespace\\sarimax.py:978: UserWarning: Non-invertible starting MA parameters found. Using zeros as starting parameters.\n",
      "  warn('Non-invertible starting MA parameters found.'\n"
     ]
    },
    {
     "data": {
      "text/plain": [
       "(2025-01-31    129.915170\n",
       " 2025-02-28    131.896447\n",
       " 2025-03-31    130.390559\n",
       " 2025-04-30    131.535123\n",
       " 2025-05-31    130.665187\n",
       " Freq: ME, Name: predicted_mean, dtype: float64,\n",
       " Date\n",
       " 2025-01-31    135.198242\n",
       " 2025-02-28    122.835732\n",
       " 2025-03-31    103.180435\n",
       " 2025-04-30     95.607010\n",
       " 2025-05-31     94.010002\n",
       " Freq: ME, Name: TGT, dtype: float64)"
      ]
     },
     "execution_count": 125,
     "metadata": {},
     "output_type": "execute_result"
    }
   ],
   "source": [
    "m1_tgt_forecast = method1(tgt_data)\n",
    "m1_tgt_forecast, curr_tgt_data.head()"
   ]
  },
  {
   "cell_type": "code",
   "execution_count": 135,
   "id": "e96d2946-bd2d-4f71-bb3f-f879119cfe08",
   "metadata": {},
   "outputs": [
    {
     "name": "stderr",
     "output_type": "stream",
     "text": [
      "C:\\Users\\leonh\\anaconda3\\Lib\\site-packages\\statsmodels\\tsa\\statespace\\sarimax.py:966: UserWarning: Non-stationary starting autoregressive parameters found. Using zeros as starting parameters.\n",
      "  warn('Non-stationary starting autoregressive parameters'\n",
      "C:\\Users\\leonh\\anaconda3\\Lib\\site-packages\\statsmodels\\tsa\\statespace\\sarimax.py:978: UserWarning: Non-invertible starting MA parameters found. Using zeros as starting parameters.\n",
      "  warn('Non-invertible starting MA parameters found.'\n",
      "C:\\Users\\leonh\\anaconda3\\Lib\\site-packages\\statsmodels\\tsa\\statespace\\sarimax.py:966: UserWarning: Non-stationary starting autoregressive parameters found. Using zeros as starting parameters.\n",
      "  warn('Non-stationary starting autoregressive parameters'\n",
      "C:\\Users\\leonh\\anaconda3\\Lib\\site-packages\\statsmodels\\tsa\\statespace\\sarimax.py:978: UserWarning: Non-invertible starting MA parameters found. Using zeros as starting parameters.\n",
      "  warn('Non-invertible starting MA parameters found.'\n",
      "C:\\Users\\leonh\\anaconda3\\Lib\\site-packages\\statsmodels\\tsa\\statespace\\sarimax.py:966: UserWarning: Non-stationary starting autoregressive parameters found. Using zeros as starting parameters.\n",
      "  warn('Non-stationary starting autoregressive parameters'\n",
      "C:\\Users\\leonh\\anaconda3\\Lib\\site-packages\\statsmodels\\tsa\\statespace\\sarimax.py:978: UserWarning: Non-invertible starting MA parameters found. Using zeros as starting parameters.\n",
      "  warn('Non-invertible starting MA parameters found.'\n"
     ]
    }
   ],
   "source": [
    "m1_cost_forecast = method1(cost_data)\n",
    "m1_hd_forecast = method1(hd_data)\n",
    "m1_dg_forecast = method1(dg_data)\n",
    "m1_low_forecast = method1(low_data)\n",
    "m1_tjx_forecast = method1(tjx_data)"
   ]
  },
  {
   "cell_type": "markdown",
   "id": "ad44dd6a-43c3-43b3-a1b9-c2360c2050ee",
   "metadata": {},
   "source": [
    "# Method 2: Auto ARIMA Model"
   ]
  },
  {
   "cell_type": "code",
   "execution_count": 117,
   "id": "8bc75d14-9374-4b0a-bb36-9023220b1ce9",
   "metadata": {},
   "outputs": [],
   "source": [
    "def optimal_order(data):\n",
    "    optimal_model = pm.auto_arima(data, start_p=0, start_q=0, seasonal=False, stepwise=False, suppress_warnings=True, error_action='ignore')\n",
    "    return optimal_model.order\n",
    "def seasonal_optimal(data):\n",
    "    optimal_model = pm.auto_arima(data, start_p=0, start_q=0, seasonal=True, stepwise=False, suppress_warnings=True, error_action='ignore')\n",
    "    return optimal_model.order"
   ]
  },
  {
   "cell_type": "code",
   "execution_count": 84,
   "id": "f9b77086-bf28-4158-b738-33d419a16af7",
   "metadata": {},
   "outputs": [],
   "source": [
    "def method2(data):\n",
    "    model = ARIMA(data, order=optimal_order(data))\n",
    "    results=model.fit()\n",
    "    forecast=results.forecast(steps=5)\n",
    "    return forecast"
   ]
  },
  {
   "cell_type": "code",
   "execution_count": 110,
   "id": "b4af5543-e012-47a8-9cb5-11bee1a9a038",
   "metadata": {},
   "outputs": [
    {
     "name": "stderr",
     "output_type": "stream",
     "text": [
      "C:\\Users\\leonh\\anaconda3\\Lib\\site-packages\\statsmodels\\base\\model.py:607: ConvergenceWarning: Maximum Likelihood optimization failed to converge. Check mle_retvals\n",
      "  warnings.warn(\"Maximum Likelihood optimization failed to \"\n"
     ]
    },
    {
     "data": {
      "text/plain": [
       "(2025-01-31     92.630490\n",
       " 2025-02-28     94.394456\n",
       " 2025-03-31     96.390208\n",
       " 2025-04-30     99.272137\n",
       " 2025-05-31    101.995326\n",
       " Freq: ME, Name: predicted_mean, dtype: float64,\n",
       " Date\n",
       " 2025-01-31    97.655075\n",
       " 2025-02-28    98.102753\n",
       " 2025-03-31    87.578255\n",
       " 2025-04-30    97.015434\n",
       " 2025-05-31    98.720001\n",
       " Freq: ME, Name: WMT, dtype: float64)"
      ]
     },
     "execution_count": 110,
     "metadata": {},
     "output_type": "execute_result"
    }
   ],
   "source": [
    "m2_wmt_forecast = method2(wmt_data)\n",
    "m2_wmt_forecast, curr_wmt_data.head()"
   ]
  },
  {
   "cell_type": "code",
   "execution_count": 111,
   "id": "c3365a26-aeab-4dcf-a30a-21bdbd0b7321",
   "metadata": {},
   "outputs": [
    {
     "data": {
      "text/plain": [
       "(2025-01-31    137.498458\n",
       " 2025-02-28    132.825106\n",
       " 2025-03-31    129.656170\n",
       " 2025-04-30    129.821328\n",
       " 2025-05-31    129.821328\n",
       " Freq: ME, Name: predicted_mean, dtype: float64,\n",
       " Date\n",
       " 2025-01-31    135.198242\n",
       " 2025-02-28    122.835732\n",
       " 2025-03-31    103.180435\n",
       " 2025-04-30     95.607010\n",
       " 2025-05-31     94.010002\n",
       " Freq: ME, Name: TGT, dtype: float64)"
      ]
     },
     "execution_count": 111,
     "metadata": {},
     "output_type": "execute_result"
    }
   ],
   "source": [
    "m2_tgt_forecast = method2(tgt_data)\n",
    "m2_tgt_forecast, curr_tgt_data.head()"
   ]
  },
  {
   "cell_type": "code",
   "execution_count": 112,
   "id": "074dd704-3a99-4ec5-b614-56947a337868",
   "metadata": {},
   "outputs": [
    {
     "data": {
      "text/plain": [
       "(2025-01-31     924.589379\n",
       " 2025-02-28     976.936803\n",
       " 2025-03-31     987.568238\n",
       " 2025-04-30     995.754453\n",
       " 2025-05-31    1022.031834\n",
       " Freq: ME, Name: predicted_mean, dtype: float64,\n",
       " Date\n",
       " 2025-01-31     976.172485\n",
       " 2025-02-28    1045.796753\n",
       " 2025-03-31     943.242554\n",
       " 2025-04-30     991.831848\n",
       " 2025-05-31    1038.740967\n",
       " Freq: ME, Name: COST, dtype: float64)"
      ]
     },
     "execution_count": 112,
     "metadata": {},
     "output_type": "execute_result"
    }
   ],
   "source": [
    "m2_cost_forecast = method2(cost_data)\n",
    "m2_cost_forecast, curr_cost_data.head()"
   ]
  },
  {
   "cell_type": "code",
   "execution_count": 120,
   "id": "6ffd03b3-ac51-42af-b145-d8c08f05226b",
   "metadata": {},
   "outputs": [
    {
     "data": {
      "text/plain": [
       "(2025-01-31    381.508600\n",
       " 2025-02-28    369.249280\n",
       " 2025-03-31    378.973049\n",
       " 2025-04-30    373.230875\n",
       " 2025-05-31    382.870568\n",
       " Freq: ME, Name: predicted_mean, dtype: float64,\n",
       " Date\n",
       " 2025-01-31    406.853638\n",
       " 2025-02-28    391.665009\n",
       " 2025-03-31    364.226471\n",
       " 2025-04-30    358.263550\n",
       " 2025-05-31    366.015381\n",
       " Freq: ME, Name: HD, dtype: float64)"
      ]
     },
     "execution_count": 120,
     "metadata": {},
     "output_type": "execute_result"
    }
   ],
   "source": [
    "m2_hd_forecast = method2(hd_data)\n",
    "m2_hd_forecast, curr_hd_data.head()"
   ]
  },
  {
   "cell_type": "code",
   "execution_count": 136,
   "id": "06d74e4f-6ee4-46f4-8005-885cbebe51e3",
   "metadata": {},
   "outputs": [
    {
     "data": {
      "text/plain": [
       "(2025-01-31    77.105220\n",
       " 2025-02-28    80.473076\n",
       " 2025-03-31    78.541921\n",
       " 2025-04-30    75.932605\n",
       " 2025-05-31    77.898543\n",
       " Freq: ME, Name: predicted_mean, dtype: float64,\n",
       " Date\n",
       " 2025-01-31    70.246208\n",
       " 2025-02-28    73.330475\n",
       " 2025-03-31    86.923004\n",
       " 2025-04-30    93.214706\n",
       " 2025-05-31    96.756645\n",
       " Freq: ME, Name: DG, dtype: float64)"
      ]
     },
     "execution_count": 136,
     "metadata": {},
     "output_type": "execute_result"
    }
   ],
   "source": [
    "m2_dg_forecast = method2(dg_data)\n",
    "m2_dg_forecast, curr_dg_data.head()"
   ]
  },
  {
   "cell_type": "code",
   "execution_count": 137,
   "id": "75b5f49d-cca3-48c6-98d2-7c9311809bb5",
   "metadata": {},
   "outputs": [
    {
     "data": {
      "text/plain": [
       "(2025-01-31    236.448037\n",
       " 2025-02-28    232.457963\n",
       " 2025-03-31    234.141456\n",
       " 2025-04-30    240.470408\n",
       " 2025-05-31    247.970609\n",
       " Freq: ME, Name: predicted_mean, dtype: float64,\n",
       " Date\n",
       " 2025-01-31    257.306458\n",
       " 2025-02-28    246.026306\n",
       " 2025-03-31    230.778290\n",
       " 2025-04-30    222.377289\n",
       " 2025-05-31    224.535812\n",
       " Freq: ME, Name: LOW, dtype: float64)"
      ]
     },
     "execution_count": 137,
     "metadata": {},
     "output_type": "execute_result"
    }
   ],
   "source": [
    "m2_low_forecast = method2(low_data)\n",
    "m2_low_forecast, curr_low_data.head()"
   ]
  },
  {
   "cell_type": "code",
   "execution_count": 138,
   "id": "2526ca1f-9f57-4438-b648-5b24017318fb",
   "metadata": {},
   "outputs": [
    {
     "data": {
      "text/plain": [
       "(2025-01-31    120.05584\n",
       " 2025-02-28    120.05584\n",
       " 2025-03-31    120.05584\n",
       " 2025-04-30    120.05584\n",
       " 2025-05-31    120.05584\n",
       " Freq: ME, Name: predicted_mean, dtype: float64,\n",
       " Date\n",
       " 2025-01-31    124.010994\n",
       " 2025-02-28    124.356018\n",
       " 2025-03-31    121.405602\n",
       " 2025-04-30    128.263321\n",
       " 2025-05-31    126.900002\n",
       " Freq: ME, Name: TJX, dtype: float64)"
      ]
     },
     "execution_count": 138,
     "metadata": {},
     "output_type": "execute_result"
    }
   ],
   "source": [
    "m2_tjx_forecast = method2(tjx_data)\n",
    "m2_tjx_forecast, curr_tjx_data.head()"
   ]
  },
  {
   "cell_type": "code",
   "execution_count": 119,
   "id": "878fe8fb-e521-4937-b117-8e507f1807fe",
   "metadata": {},
   "outputs": [],
   "source": [
    "def seasonal_method2(data):\n",
    "    model = ARIMA(data, order=seasonal_optimal(data))\n",
    "    results=model.fit()\n",
    "    forecast=results.forecast(steps=5)\n",
    "    return forecast"
   ]
  },
  {
   "cell_type": "code",
   "execution_count": 139,
   "id": "00cc89df-8f43-4bd9-a703-722175dea1d7",
   "metadata": {},
   "outputs": [],
   "source": [
    "sm2_wmt_forecast = seasonal_method2(wmt_data)\n",
    "sm2_tgt_forecast = seasonal_method2(tgt_data)\n",
    "sm2_cost_forecast = seasonal_method2(cost_data)\n",
    "sm2_hd_forecast = seasonal_method2(hd_data)\n",
    "sm2_dg_forecast = seasonal_method2(dg_data)\n",
    "sm2_low_forecast = seasonal_method2(low_data)\n",
    "sm2_tjx_forecast = seasonal_method2(tjx_data)"
   ]
  },
  {
   "cell_type": "markdown",
   "id": "eec022cb-4559-4550-9543-dbbd57249af6",
   "metadata": {},
   "source": [
    "# Method 3: Exponential Smoothing "
   ]
  },
  {
   "cell_type": "code",
   "execution_count": 192,
   "id": "05f390f7-3cc9-4ce4-be25-894b2b0ca353",
   "metadata": {},
   "outputs": [],
   "source": [
    "def method3(data):\n",
    "    model = ExponentialSmoothing(data, trend='add', seasonal=None).fit()\n",
    "    forecast = model.forecast(5)\n",
    "    return forecast\n",
    "def sea_method3(data):\n",
    "    model = ExponentialSmoothing(data, trend='add', seasonal='add',seasonal_periods=12).fit()\n",
    "    forecast = model.forecast(5)\n",
    "    return forecast"
   ]
  },
  {
   "cell_type": "code",
   "execution_count": 164,
   "id": "29c1c8d4-55bf-438b-92da-84f76aacafae",
   "metadata": {},
   "outputs": [
    {
     "data": {
      "text/plain": [
       "(2025-01-31     93.544725\n",
       " 2025-02-28     96.460210\n",
       " 2025-03-31     99.375695\n",
       " 2025-04-30    102.291179\n",
       " 2025-05-31    105.206664\n",
       " Freq: ME, dtype: float64,\n",
       " Date\n",
       " 2025-01-31    97.655075\n",
       " 2025-02-28    98.102753\n",
       " 2025-03-31    87.578255\n",
       " 2025-04-30    97.015434\n",
       " 2025-05-31    98.720001\n",
       " Freq: ME, Name: WMT, dtype: float64)"
      ]
     },
     "execution_count": 164,
     "metadata": {},
     "output_type": "execute_result"
    }
   ],
   "source": [
    "m3_wmt_forecast = method3(wmt_data)\n",
    "m3_wmt_forecast, curr_wmt_data.head()"
   ]
  },
  {
   "cell_type": "code",
   "execution_count": 165,
   "id": "9b1167f9-defd-4d12-a992-875d4021806b",
   "metadata": {},
   "outputs": [
    {
     "data": {
      "text/plain": [
       "(2025-01-31    133.227646\n",
       " 2025-02-28    133.933381\n",
       " 2025-03-31    134.639117\n",
       " 2025-04-30    135.344853\n",
       " 2025-05-31    136.050588\n",
       " Freq: ME, dtype: float64,\n",
       " Date\n",
       " 2025-01-31    135.198242\n",
       " 2025-02-28    122.835732\n",
       " 2025-03-31    103.180435\n",
       " 2025-04-30     95.607010\n",
       " 2025-05-31     94.010002\n",
       " Freq: ME, Name: TGT, dtype: float64)"
      ]
     },
     "execution_count": 165,
     "metadata": {},
     "output_type": "execute_result"
    }
   ],
   "source": [
    "m3_tgt_forecast = method3(tgt_data)\n",
    "m3_tgt_forecast, curr_tgt_data.head()"
   ]
  },
  {
   "cell_type": "code",
   "execution_count": 166,
   "id": "bebf2318-609c-46ce-9867-8fecab73a3fc",
   "metadata": {},
   "outputs": [
    {
     "data": {
      "text/plain": [
       "(2025-01-31     948.315911\n",
       " 2025-02-28     966.770270\n",
       " 2025-03-31     985.224630\n",
       " 2025-04-30    1003.678989\n",
       " 2025-05-31    1022.133349\n",
       " Freq: ME, dtype: float64,\n",
       " Date\n",
       " 2025-01-31     976.172546\n",
       " 2025-02-28    1045.796753\n",
       " 2025-03-31     943.242554\n",
       " 2025-04-30     991.831848\n",
       " 2025-05-31    1038.740967\n",
       " Freq: ME, Name: COST, dtype: float64)"
      ]
     },
     "execution_count": 166,
     "metadata": {},
     "output_type": "execute_result"
    }
   ],
   "source": [
    "m3_cost_forecast = method3(cost_data)\n",
    "m3_cost_forecast, curr_cost_data.head()"
   ]
  },
  {
   "cell_type": "code",
   "execution_count": 167,
   "id": "45e24ffa-b13b-4847-803f-d39131ca8283",
   "metadata": {},
   "outputs": [
    {
     "data": {
      "text/plain": [
       "(2025-01-31    386.847762\n",
       " 2025-02-28    389.336822\n",
       " 2025-03-31    391.825882\n",
       " 2025-04-30    394.314941\n",
       " 2025-05-31    396.804001\n",
       " Freq: ME, dtype: float64,\n",
       " Date\n",
       " 2025-01-31    406.853638\n",
       " 2025-02-28    391.665009\n",
       " 2025-03-31    364.226471\n",
       " 2025-04-30    358.263550\n",
       " 2025-05-31    366.015381\n",
       " Freq: ME, Name: HD, dtype: float64)"
      ]
     },
     "execution_count": 167,
     "metadata": {},
     "output_type": "execute_result"
    }
   ],
   "source": [
    "m3_hd_forecast = method3(hd_data)\n",
    "m3_hd_forecast, curr_hd_data.head()"
   ]
  },
  {
   "cell_type": "code",
   "execution_count": 168,
   "id": "09fa3a9e-6d6c-4793-8fb9-7028806d36cd",
   "metadata": {},
   "outputs": [
    {
     "data": {
      "text/plain": [
       "(2025-01-31    70.747759\n",
       " 2025-02-28    67.126835\n",
       " 2025-03-31    63.505910\n",
       " 2025-04-30    59.884986\n",
       " 2025-05-31    56.264062\n",
       " Freq: ME, dtype: float64,\n",
       " Date\n",
       " 2025-01-31    70.246208\n",
       " 2025-02-28    73.330475\n",
       " 2025-03-31    86.923004\n",
       " 2025-04-30    93.214706\n",
       " 2025-05-31    96.756645\n",
       " Freq: ME, Name: DG, dtype: float64)"
      ]
     },
     "execution_count": 168,
     "metadata": {},
     "output_type": "execute_result"
    }
   ],
   "source": [
    "m3_dg_forecast = method3(dg_data)\n",
    "m3_dg_forecast, curr_dg_data.head()"
   ]
  },
  {
   "cell_type": "code",
   "execution_count": 169,
   "id": "5a4ffcbf-3aa6-41ed-9e38-fda0c67eaf66",
   "metadata": {},
   "outputs": [
    {
     "data": {
      "text/plain": [
       "(2025-01-31    244.713925\n",
       " 2025-02-28    246.284584\n",
       " 2025-03-31    247.855244\n",
       " 2025-04-30    249.425903\n",
       " 2025-05-31    250.996563\n",
       " Freq: ME, dtype: float64,\n",
       " Date\n",
       " 2025-01-31    257.306458\n",
       " 2025-02-28    246.026306\n",
       " 2025-03-31    230.778290\n",
       " 2025-04-30    222.377289\n",
       " 2025-05-31    224.535812\n",
       " Freq: ME, Name: LOW, dtype: float64)"
      ]
     },
     "execution_count": 169,
     "metadata": {},
     "output_type": "execute_result"
    }
   ],
   "source": [
    "m3_low_forecast = method3(low_data)\n",
    "m3_low_forecast, curr_low_data.head()"
   ]
  },
  {
   "cell_type": "code",
   "execution_count": 170,
   "id": "ff3e0b52-6d92-4dca-8516-a89595562862",
   "metadata": {},
   "outputs": [
    {
     "data": {
      "text/plain": [
       "(2025-01-31    121.306722\n",
       " 2025-02-28    122.039175\n",
       " 2025-03-31    122.771628\n",
       " 2025-04-30    123.504081\n",
       " 2025-05-31    124.236534\n",
       " Freq: ME, dtype: float64,\n",
       " Date\n",
       " 2025-01-31    124.010994\n",
       " 2025-02-28    124.356018\n",
       " 2025-03-31    121.405602\n",
       " 2025-04-30    128.263321\n",
       " 2025-05-31    126.900002\n",
       " Freq: ME, Name: TJX, dtype: float64)"
      ]
     },
     "execution_count": 170,
     "metadata": {},
     "output_type": "execute_result"
    }
   ],
   "source": [
    "m3_tjx_forecast = method3(tjx_data)\n",
    "m3_tjx_forecast, curr_tjx_data.head()"
   ]
  },
  {
   "cell_type": "code",
   "execution_count": 259,
   "id": "e511f8fc-767b-4b48-873b-937067c0f01c",
   "metadata": {},
   "outputs": [],
   "source": [
    "sm3_wmt_forecast = sea_method3(wmt_data)\n",
    "sm3_tgt_forecast = sea_method3(tgt_data)\n",
    "sm3_cost_forecast = sea_method3(cost_data)\n",
    "sm3_hd_forecast = sea_method3(hd_data)\n",
    "sm3_dg_forecast = sea_method3(dg_data)\n",
    "sm3_low_forecast = sea_method3(low_data)\n",
    "sm3_tjx_forecast = sea_method3(tjx_data)"
   ]
  },
  {
   "cell_type": "markdown",
   "id": "007cbe13-c864-4bb4-9aba-0136a98bcd88",
   "metadata": {},
   "source": [
    "# Method 4: Facebook Prophet"
   ]
  },
  {
   "cell_type": "code",
   "execution_count": 245,
   "id": "db03218a-0847-4b9e-829b-53a962546c74",
   "metadata": {},
   "outputs": [],
   "source": [
    "def method4(data):\n",
    "    df = data.reset_index()\n",
    "    df.columns = ['ds', 'y']\n",
    "    df['ds'] = pd.to_datetime(df['ds'])\n",
    "    model = Prophet(\n",
    "        daily_seasonality=False,\n",
    "        yearly_seasonality=False,\n",
    "        weekly_seasonality=False\n",
    "    )\n",
    "    model.fit(df)\n",
    "    future = model.make_future_dataframe(periods=5, freq='M')\n",
    "    forecast = model.predict(future)    \n",
    "    result = pd.Series(\n",
    "        data=forecast['yhat'].tail(5).values,\n",
    "        index=forecast['ds'].tail(5).values\n",
    "    )\n",
    "    return result"
   ]
  },
  {
   "cell_type": "code",
   "execution_count": 250,
   "id": "68cef6d8-361f-4d5a-b6ac-bcf8b0c44765",
   "metadata": {},
   "outputs": [
    {
     "name": "stderr",
     "output_type": "stream",
     "text": [
      "10:36:38 - cmdstanpy - INFO - Chain [1] start processing\n",
      "10:36:38 - cmdstanpy - INFO - Chain [1] done processing\n",
      "C:\\Users\\leonh\\anaconda3\\Lib\\site-packages\\prophet\\forecaster.py:1872: FutureWarning: 'M' is deprecated and will be removed in a future version, please use 'ME' instead.\n",
      "  dates = pd.date_range(\n"
     ]
    },
    {
     "data": {
      "text/plain": [
       "(2025-01-31    72.316817\n",
       " 2025-02-28    73.121538\n",
       " 2025-03-31    74.012480\n",
       " 2025-04-30    74.874682\n",
       " 2025-05-31    75.765624\n",
       " dtype: float64,\n",
       " Date\n",
       " 2025-01-31    97.655075\n",
       " 2025-02-28    98.102753\n",
       " 2025-03-31    87.578255\n",
       " 2025-04-30    97.015434\n",
       " 2025-05-31    98.720001\n",
       " Freq: ME, Name: WMT, dtype: float64)"
      ]
     },
     "execution_count": 250,
     "metadata": {},
     "output_type": "execute_result"
    }
   ],
   "source": [
    "m4_wmt_forecast = method4(wmt_data)\n",
    "m4_wmt_forecast, curr_wmt_data.head()"
   ]
  },
  {
   "cell_type": "code",
   "execution_count": 251,
   "id": "721f661b-f3ef-473a-b4f6-d5269fbdac17",
   "metadata": {},
   "outputs": [
    {
     "name": "stderr",
     "output_type": "stream",
     "text": [
      "10:37:47 - cmdstanpy - INFO - Chain [1] start processing\n",
      "10:37:47 - cmdstanpy - INFO - Chain [1] done processing\n",
      "C:\\Users\\leonh\\anaconda3\\Lib\\site-packages\\prophet\\forecaster.py:1872: FutureWarning: 'M' is deprecated and will be removed in a future version, please use 'ME' instead.\n",
      "  dates = pd.date_range(\n"
     ]
    },
    {
     "data": {
      "text/plain": [
       "(2025-01-31    172.217133\n",
       " 2025-02-28    173.138108\n",
       " 2025-03-31    174.157760\n",
       " 2025-04-30    175.144519\n",
       " 2025-05-31    176.164171\n",
       " dtype: float64,\n",
       " Date\n",
       " 2025-01-31    135.198242\n",
       " 2025-02-28    122.835732\n",
       " 2025-03-31    103.180435\n",
       " 2025-04-30     95.607010\n",
       " 2025-05-31     94.010002\n",
       " Freq: ME, Name: TGT, dtype: float64)"
      ]
     },
     "execution_count": 251,
     "metadata": {},
     "output_type": "execute_result"
    }
   ],
   "source": [
    "m4_tgt_forecast = method4(tgt_data)\n",
    "m4_tgt_forecast, curr_tgt_data.head()"
   ]
  },
  {
   "cell_type": "code",
   "execution_count": 252,
   "id": "73bed221-9bb0-4cf2-93e4-f8cf070f3400",
   "metadata": {},
   "outputs": [
    {
     "name": "stderr",
     "output_type": "stream",
     "text": [
      "10:37:55 - cmdstanpy - INFO - Chain [1] start processing\n",
      "10:37:56 - cmdstanpy - INFO - Chain [1] done processing\n",
      "C:\\Users\\leonh\\anaconda3\\Lib\\site-packages\\prophet\\forecaster.py:1872: FutureWarning: 'M' is deprecated and will be removed in a future version, please use 'ME' instead.\n",
      "  dates = pd.date_range(\n"
     ]
    },
    {
     "data": {
      "text/plain": [
       "(2025-01-31    844.618608\n",
       " 2025-02-28    856.146074\n",
       " 2025-03-31    868.908626\n",
       " 2025-04-30    881.259483\n",
       " 2025-05-31    894.022035\n",
       " dtype: float64,\n",
       " Date\n",
       " 2025-01-31     976.172546\n",
       " 2025-02-28    1045.796753\n",
       " 2025-03-31     943.242554\n",
       " 2025-04-30     991.831848\n",
       " 2025-05-31    1038.740967\n",
       " Freq: ME, Name: COST, dtype: float64)"
      ]
     },
     "execution_count": 252,
     "metadata": {},
     "output_type": "execute_result"
    }
   ],
   "source": [
    "m4_cost_forecast = method4(cost_data)\n",
    "m4_cost_forecast, curr_cost_data.head()"
   ]
  },
  {
   "cell_type": "code",
   "execution_count": 253,
   "id": "406568b1-ad2a-4a69-a392-0c6fb4178f96",
   "metadata": {},
   "outputs": [
    {
     "name": "stderr",
     "output_type": "stream",
     "text": [
      "10:38:03 - cmdstanpy - INFO - Chain [1] start processing\n",
      "10:38:03 - cmdstanpy - INFO - Chain [1] done processing\n",
      "C:\\Users\\leonh\\anaconda3\\Lib\\site-packages\\prophet\\forecaster.py:1872: FutureWarning: 'M' is deprecated and will be removed in a future version, please use 'ME' instead.\n",
      "  dates = pd.date_range(\n"
     ]
    },
    {
     "data": {
      "text/plain": [
       "(2025-01-31    371.592513\n",
       " 2025-02-28    374.071161\n",
       " 2025-03-31    376.815378\n",
       " 2025-04-30    379.471072\n",
       " 2025-05-31    382.215289\n",
       " dtype: float64,\n",
       " Date\n",
       " 2025-01-31    406.853638\n",
       " 2025-02-28    391.665009\n",
       " 2025-03-31    364.226471\n",
       " 2025-04-30    358.263550\n",
       " 2025-05-31    366.015381\n",
       " Freq: ME, Name: HD, dtype: float64)"
      ]
     },
     "execution_count": 253,
     "metadata": {},
     "output_type": "execute_result"
    }
   ],
   "source": [
    "m4_hd_forecast = method4(hd_data)\n",
    "m4_hd_forecast, curr_hd_data.head()"
   ]
  },
  {
   "cell_type": "code",
   "execution_count": 254,
   "id": "9c1083e7-6503-4ff0-bce1-5d3121c44c97",
   "metadata": {},
   "outputs": [
    {
     "name": "stderr",
     "output_type": "stream",
     "text": [
      "10:38:18 - cmdstanpy - INFO - Chain [1] start processing\n",
      "10:38:18 - cmdstanpy - INFO - Chain [1] done processing\n",
      "C:\\Users\\leonh\\anaconda3\\Lib\\site-packages\\prophet\\forecaster.py:1872: FutureWarning: 'M' is deprecated and will be removed in a future version, please use 'ME' instead.\n",
      "  dates = pd.date_range(\n"
     ]
    },
    {
     "data": {
      "text/plain": [
       "(2025-01-31    87.403982\n",
       " 2025-02-28    83.495603\n",
       " 2025-03-31    79.168469\n",
       " 2025-04-30    74.980920\n",
       " 2025-05-31    70.653786\n",
       " dtype: float64,\n",
       " Date\n",
       " 2025-01-31    70.246208\n",
       " 2025-02-28    73.330475\n",
       " 2025-03-31    86.923004\n",
       " 2025-04-30    93.214706\n",
       " 2025-05-31    96.756645\n",
       " Freq: ME, Name: DG, dtype: float64)"
      ]
     },
     "execution_count": 254,
     "metadata": {},
     "output_type": "execute_result"
    }
   ],
   "source": [
    "m4_dg_forecast = method4(dg_data)\n",
    "m4_dg_forecast, curr_dg_data.head()"
   ]
  },
  {
   "cell_type": "code",
   "execution_count": 255,
   "id": "64d096a3-7f0d-4d34-89dd-e8b1ba20aa94",
   "metadata": {},
   "outputs": [
    {
     "name": "stderr",
     "output_type": "stream",
     "text": [
      "10:38:24 - cmdstanpy - INFO - Chain [1] start processing\n",
      "10:38:24 - cmdstanpy - INFO - Chain [1] done processing\n",
      "C:\\Users\\leonh\\anaconda3\\Lib\\site-packages\\prophet\\forecaster.py:1872: FutureWarning: 'M' is deprecated and will be removed in a future version, please use 'ME' instead.\n",
      "  dates = pd.date_range(\n"
     ]
    },
    {
     "data": {
      "text/plain": [
       "(2025-01-31    252.716560\n",
       " 2025-02-28    254.704884\n",
       " 2025-03-31    256.906243\n",
       " 2025-04-30    259.036590\n",
       " 2025-05-31    261.237948\n",
       " dtype: float64,\n",
       " Date\n",
       " 2025-01-31    257.306458\n",
       " 2025-02-28    246.026306\n",
       " 2025-03-31    230.778290\n",
       " 2025-04-30    222.377289\n",
       " 2025-05-31    224.535812\n",
       " Freq: ME, Name: LOW, dtype: float64)"
      ]
     },
     "execution_count": 255,
     "metadata": {},
     "output_type": "execute_result"
    }
   ],
   "source": [
    "m4_low_forecast = method4(low_data)\n",
    "m4_low_forecast, curr_low_data.head()"
   ]
  },
  {
   "cell_type": "code",
   "execution_count": 256,
   "id": "07b5d911-1a2e-4fae-ac7c-5551ffa60570",
   "metadata": {},
   "outputs": [
    {
     "name": "stderr",
     "output_type": "stream",
     "text": [
      "10:38:33 - cmdstanpy - INFO - Chain [1] start processing\n",
      "10:38:33 - cmdstanpy - INFO - Chain [1] done processing\n",
      "C:\\Users\\leonh\\anaconda3\\Lib\\site-packages\\prophet\\forecaster.py:1872: FutureWarning: 'M' is deprecated and will be removed in a future version, please use 'ME' instead.\n",
      "  dates = pd.date_range(\n"
     ]
    },
    {
     "data": {
      "text/plain": [
       "(2025-01-31    116.837649\n",
       " 2025-02-28    118.419731\n",
       " 2025-03-31    120.171321\n",
       " 2025-04-30    121.866408\n",
       " 2025-05-31    123.617998\n",
       " dtype: float64,\n",
       " Date\n",
       " 2025-01-31    124.010994\n",
       " 2025-02-28    124.356018\n",
       " 2025-03-31    121.405602\n",
       " 2025-04-30    128.263321\n",
       " 2025-05-31    126.900002\n",
       " Freq: ME, Name: TJX, dtype: float64)"
      ]
     },
     "execution_count": 256,
     "metadata": {},
     "output_type": "execute_result"
    }
   ],
   "source": [
    "m4_tjx_forecast = method4(tjx_data)\n",
    "m4_tjx_forecast, curr_tjx_data.head()"
   ]
  },
  {
   "cell_type": "code",
   "execution_count": 248,
   "id": "56582b1f-d70c-43a6-9da0-c08a7c72ab78",
   "metadata": {},
   "outputs": [],
   "source": [
    "def sea_method4(data):\n",
    "    df = data.reset_index()\n",
    "    df.columns = ['ds', 'y']\n",
    "    df['ds'] = pd.to_datetime(df['ds'])\n",
    "    model = Prophet(\n",
    "        daily_seasonality=False,\n",
    "        yearly_seasonality=True,\n",
    "        weekly_seasonality=False\n",
    "    )\n",
    "    model.fit(df)\n",
    "    future = model.make_future_dataframe(periods=5, freq='M')\n",
    "    forecast = model.predict(future)    \n",
    "    result = pd.Series(\n",
    "        data=forecast['yhat'].tail(5).values,\n",
    "        index=forecast['ds'].tail(5).values\n",
    "    )\n",
    "    return result"
   ]
  },
  {
   "cell_type": "code",
   "execution_count": 257,
   "id": "6b2d4623-6936-4110-8d46-325d3519a5a8",
   "metadata": {},
   "outputs": [
    {
     "name": "stderr",
     "output_type": "stream",
     "text": [
      "10:39:15 - cmdstanpy - INFO - Chain [1] start processing\n",
      "10:39:15 - cmdstanpy - INFO - Chain [1] done processing\n",
      "C:\\Users\\leonh\\anaconda3\\Lib\\site-packages\\prophet\\forecaster.py:1872: FutureWarning: 'M' is deprecated and will be removed in a future version, please use 'ME' instead.\n",
      "  dates = pd.date_range(\n",
      "10:39:15 - cmdstanpy - INFO - Chain [1] start processing\n",
      "10:39:15 - cmdstanpy - INFO - Chain [1] done processing\n",
      "C:\\Users\\leonh\\anaconda3\\Lib\\site-packages\\prophet\\forecaster.py:1872: FutureWarning: 'M' is deprecated and will be removed in a future version, please use 'ME' instead.\n",
      "  dates = pd.date_range(\n",
      "10:39:15 - cmdstanpy - INFO - Chain [1] start processing\n",
      "10:39:15 - cmdstanpy - INFO - Chain [1] done processing\n",
      "C:\\Users\\leonh\\anaconda3\\Lib\\site-packages\\prophet\\forecaster.py:1872: FutureWarning: 'M' is deprecated and will be removed in a future version, please use 'ME' instead.\n",
      "  dates = pd.date_range(\n",
      "10:39:16 - cmdstanpy - INFO - Chain [1] start processing\n",
      "10:39:16 - cmdstanpy - INFO - Chain [1] done processing\n",
      "C:\\Users\\leonh\\anaconda3\\Lib\\site-packages\\prophet\\forecaster.py:1872: FutureWarning: 'M' is deprecated and will be removed in a future version, please use 'ME' instead.\n",
      "  dates = pd.date_range(\n",
      "10:39:16 - cmdstanpy - INFO - Chain [1] start processing\n",
      "10:39:16 - cmdstanpy - INFO - Chain [1] done processing\n",
      "C:\\Users\\leonh\\anaconda3\\Lib\\site-packages\\prophet\\forecaster.py:1872: FutureWarning: 'M' is deprecated and will be removed in a future version, please use 'ME' instead.\n",
      "  dates = pd.date_range(\n",
      "10:39:16 - cmdstanpy - INFO - Chain [1] start processing\n",
      "10:39:16 - cmdstanpy - INFO - Chain [1] done processing\n",
      "C:\\Users\\leonh\\anaconda3\\Lib\\site-packages\\prophet\\forecaster.py:1872: FutureWarning: 'M' is deprecated and will be removed in a future version, please use 'ME' instead.\n",
      "  dates = pd.date_range(\n",
      "10:39:16 - cmdstanpy - INFO - Chain [1] start processing\n",
      "10:39:16 - cmdstanpy - INFO - Chain [1] done processing\n",
      "C:\\Users\\leonh\\anaconda3\\Lib\\site-packages\\prophet\\forecaster.py:1872: FutureWarning: 'M' is deprecated and will be removed in a future version, please use 'ME' instead.\n",
      "  dates = pd.date_range(\n"
     ]
    }
   ],
   "source": [
    "sm4_wmt_forecast = sea_method4(wmt_data)\n",
    "sm4_tgt_forecast = sea_method4(tgt_data)\n",
    "sm4_cost_forecast = sea_method4(cost_data)\n",
    "sm4_hd_forecast = sea_method4(hd_data)\n",
    "sm4_dg_forecast = sea_method4(dg_data)\n",
    "sm4_low_forecast = sea_method4(low_data)\n",
    "sm4_tjx_forecast = sea_method4(tjx_data)"
   ]
  },
  {
   "cell_type": "markdown",
   "id": "a1ea431f-856f-49aa-853f-8b86275149b7",
   "metadata": {},
   "source": [
    "# Plot Historical and Forecast with MatPlotLib"
   ]
  },
  {
   "cell_type": "code",
   "execution_count": 113,
   "id": "829a6e3f-c668-4fea-b43e-58fe37da6389",
   "metadata": {},
   "outputs": [],
   "source": [
    "def plot_forecast(historical, forecast, actual, name ='Forecast'):\n",
    "    his_for = pd.concat([historical, forecast])\n",
    "    his_act = pd.concat([historical, actual])\n",
    "    plt.figure(figsize=(6,3))\n",
    "    plt.title(name + ' vs Actual Prices')    \n",
    "    plt.xlabel('Date')\n",
    "    plt.ylabel('Value')\n",
    "    plt.plot(his_for[0:5], color='blue', label='Historical')\n",
    "    plt.plot(his_for[4:], color='orange', label='Forecast')\n",
    "    plt.plot(his_act[4:], color='red', label='Actual')\n",
    "    plt.legend()\n",
    "    plt.grid(True)\n",
    "    "
   ]
  },
  {
   "cell_type": "markdown",
   "id": "e94c5eef-3da2-44b4-9491-51050421a93a",
   "metadata": {},
   "source": [
    "# Calculate the Root Mean Squared Error (RMSE) of Each Method"
   ]
  },
  {
   "cell_type": "code",
   "execution_count": 72,
   "id": "8c6ec678-33a6-4766-92be-fc17a9a4c6c8",
   "metadata": {},
   "outputs": [],
   "source": [
    "def calculate_rmse(predicted, actual):\n",
    "    return np.sqrt(mean_squared_error(actual, predicted))"
   ]
  },
  {
   "cell_type": "code",
   "execution_count": 261,
   "id": "90d58aae-7492-4137-855a-a2cd4a76f7c0",
   "metadata": {},
   "outputs": [
    {
     "ename": "SyntaxError",
     "evalue": "invalid syntax. Perhaps you forgot a comma? (2054718686.py, line 6)",
     "output_type": "error",
     "traceback": [
      "\u001b[1;36m  Cell \u001b[1;32mIn[261], line 6\u001b[1;36m\u001b[0m\n\u001b[1;33m    'Seasonal Method 3': calculate_rmse(sm3_wmt_forecast, curr_wmt_data.head())\u001b[0m\n\u001b[1;37m                         ^\u001b[0m\n\u001b[1;31mSyntaxError\u001b[0m\u001b[1;31m:\u001b[0m invalid syntax. Perhaps you forgot a comma?\n"
     ]
    }
   ],
   "source": [
    "wmt_rmse = {\n",
    "    'Method 1': calculate_rmse(m1_wmt_forecast, curr_wmt_data.head()),\n",
    "    'Method 2': calculate_rmse(m2_wmt_forecast, curr_wmt_data.head()),\n",
    "    'Seasonal Method 2': calculate_rmse(sm2_wmt_forecast, curr_wmt_data.head()),\n",
    "    'Method 3': calculate_rmse(m3_wmt_forecast, curr_wmt_data.head()),\n",
    "    'Seasonal Method 3': calculate_rmse(sm3_wmt_forecast, curr_wmt_data.head())\n",
    "    'Method 4': calculate_rmse(m4_wmt_forecast, curr_wmt_data.head()),\n",
    "    'Seasonal Method 4': calculate_rmse(sm4_wmt_forecast, curr_wmt_data.head())\n",
    "}\n",
    "wmt_rmse"
   ]
  },
  {
   "cell_type": "code",
   "execution_count": 205,
   "id": "f89d3954-76fe-4b96-aea2-9bd46a3b7c7e",
   "metadata": {},
   "outputs": [
    {
     "data": {
      "text/plain": [
       "{'Method 1': 26.40011436015101,\n",
       " 'Method 2': 25.53081977136583,\n",
       " 'Seasonal Method 2': 25.53081977136583,\n",
       " 'Method 3': 29.877070700845547,\n",
       " 'Seasonal Method 3': 29.640316164555966}"
      ]
     },
     "execution_count": 205,
     "metadata": {},
     "output_type": "execute_result"
    }
   ],
   "source": [
    "tgt_rmse = {\n",
    "    'Method 1': calculate_rmse(m1_tgt_forecast, curr_tgt_data.head()),\n",
    "    'Method 2': calculate_rmse(m2_tgt_forecast, curr_tgt_data.head()),\n",
    "    'Seasonal Method 2': calculate_rmse(sm2_tgt_forecast, curr_tgt_data.head()),\n",
    "    'Method 3': calculate_rmse(m3_tgt_forecast, curr_tgt_data.head()),\n",
    "    'Seasonal Method 3': calculate_rmse(sm3_tgt_forecast, curr_tgt_data.head())\n",
    "}\n",
    "tgt_rmse"
   ]
  },
  {
   "cell_type": "code",
   "execution_count": 206,
   "id": "73d6873e-b85d-4410-bd49-524b37bb63f1",
   "metadata": {},
   "outputs": [
    {
     "data": {
      "text/plain": [
       "{'Method 1': 91.63788246941472,\n",
       " 'Method 2': 43.95876276421207,\n",
       " 'Seasonal Method 2': 48.20938736139858,\n",
       " 'Method 3': 42.894847166333776,\n",
       " 'Seasonal Method 3': 47.66627485982997}"
      ]
     },
     "execution_count": 206,
     "metadata": {},
     "output_type": "execute_result"
    }
   ],
   "source": [
    "cost_rmse = {\n",
    "    'Method 1': calculate_rmse(m1_cost_forecast, curr_cost_data.head()),\n",
    "    'Method 2': calculate_rmse(m2_cost_forecast, curr_cost_data.head()),\n",
    "    'Seasonal Method 2': calculate_rmse(sm2_cost_forecast, curr_cost_data.head()),\n",
    "    'Method 3': calculate_rmse(m3_cost_forecast, curr_cost_data.head()),\n",
    "    'Seasonal Method 3': calculate_rmse(sm3_cost_forecast, curr_cost_data.head())\n",
    "}\n",
    "cost_rmse"
   ]
  },
  {
   "cell_type": "code",
   "execution_count": 207,
   "id": "e8f5853c-b56d-48ae-aa75-28ab8bb92139",
   "metadata": {},
   "outputs": [
    {
     "data": {
      "text/plain": [
       "{'Method 1': 19.3383062205157,\n",
       " 'Method 2': 19.34122804198642,\n",
       " 'Seasonal Method 2': 19.34122804198642,\n",
       " 'Method 3': 26.134364006577915,\n",
       " 'Seasonal Method 3': 19.11607305622327}"
      ]
     },
     "execution_count": 207,
     "metadata": {},
     "output_type": "execute_result"
    }
   ],
   "source": [
    "hd_rmse = {\n",
    "    'Method 1': calculate_rmse(m1_hd_forecast, curr_hd_data.head()),\n",
    "    'Method 2': calculate_rmse(m2_hd_forecast, curr_hd_data.head()),\n",
    "    'Seasonal Method 2': calculate_rmse(sm2_hd_forecast, curr_hd_data.head()),\n",
    "    'Method 3': calculate_rmse(m3_hd_forecast, curr_hd_data.head()),\n",
    "    'Seasonal Method 3': calculate_rmse(sm3_hd_forecast, curr_hd_data.head())\n",
    "}\n",
    "hd_rmse"
   ]
  },
  {
   "cell_type": "code",
   "execution_count": 208,
   "id": "53305e30-9f7f-4f17-a743-795adccb25a6",
   "metadata": {},
   "outputs": [
    {
     "data": {
      "text/plain": [
       "{'Method 1': 14.684608033313932,\n",
       " 'Method 2': 12.826569305491674,\n",
       " 'Seasonal Method 2': 12.826569305491674,\n",
       " 'Method 3': 25.836472408207964,\n",
       " 'Seasonal Method 3': 28.759129711366707}"
      ]
     },
     "execution_count": 208,
     "metadata": {},
     "output_type": "execute_result"
    }
   ],
   "source": [
    "dg_rmse = {\n",
    "    'Method 1': calculate_rmse(m1_dg_forecast, curr_dg_data.head()),\n",
    "    'Method 2': calculate_rmse(m2_dg_forecast, curr_dg_data.head()),\n",
    "    'Seasonal Method 2': calculate_rmse(sm2_dg_forecast, curr_dg_data.head()),\n",
    "    'Method 3': calculate_rmse(m3_dg_forecast, curr_dg_data.head()),\n",
    "    'Seasonal Method 3': calculate_rmse(sm3_dg_forecast, curr_dg_data.head())\n",
    "}\n",
    "dg_rmse"
   ]
  },
  {
   "cell_type": "code",
   "execution_count": 209,
   "id": "04e99d4a-f81c-4b03-9886-4f6dc952b84c",
   "metadata": {},
   "outputs": [
    {
     "data": {
      "text/plain": [
       "{'Method 1': 14.616923809653782,\n",
       " 'Method 2': 17.361078305069412,\n",
       " 'Seasonal Method 2': 17.361078305069412,\n",
       " 'Method 3': 19.401339060115543,\n",
       " 'Seasonal Method 3': 15.649057305050862}"
      ]
     },
     "execution_count": 209,
     "metadata": {},
     "output_type": "execute_result"
    }
   ],
   "source": [
    "low_rmse = {\n",
    "    'Method 1': calculate_rmse(m1_low_forecast, curr_low_data.head()),\n",
    "    'Method 2': calculate_rmse(m2_low_forecast, curr_low_data.head()),\n",
    "    'Seasonal Method 2': calculate_rmse(sm2_low_forecast, curr_low_data.head()),\n",
    "    'Method 3': calculate_rmse(m3_low_forecast, curr_low_data.head()),\n",
    "    'Seasonal Method 3': calculate_rmse(sm3_low_forecast, curr_low_data.head())\n",
    "}\n",
    "low_rmse"
   ]
  },
  {
   "cell_type": "code",
   "execution_count": 210,
   "id": "bac5a11f-48fd-4e69-a098-8334222b304d",
   "metadata": {},
   "outputs": [
    {
     "data": {
      "text/plain": [
       "{'Method 1': 5.364072711595163,\n",
       " 'Method 2': 5.480181442016719,\n",
       " 'Seasonal Method 2': 5.480181442016719,\n",
       " 'Method 3': 2.976282727811772,\n",
       " 'Seasonal Method 3': 5.057805051589736}"
      ]
     },
     "execution_count": 210,
     "metadata": {},
     "output_type": "execute_result"
    }
   ],
   "source": [
    "tjx_rmse = {\n",
    "    'Method 1': calculate_rmse(m1_tjx_forecast, curr_tjx_data.head()),\n",
    "    'Method 2': calculate_rmse(m2_tjx_forecast, curr_tjx_data.head()),\n",
    "    'Seasonal Method 2': calculate_rmse(sm2_tjx_forecast, curr_tjx_data.head()),\n",
    "    'Method 3': calculate_rmse(m3_tjx_forecast, curr_tjx_data.head()),\n",
    "    'Seasonal Method 3': calculate_rmse(sm3_tjx_forecast, curr_tjx_data.head())\n",
    "}\n",
    "tjx_rmse"
   ]
  },
  {
   "cell_type": "code",
   "execution_count": null,
   "id": "47a19143-fcfb-4cad-9e52-270bf6103fd1",
   "metadata": {},
   "outputs": [],
   "source": []
  },
  {
   "cell_type": "markdown",
   "id": "5a5efd57-e859-4fe9-9e50-bc94b623d89a",
   "metadata": {},
   "source": [
    "# Calculate the statisical difference between seasonal vs. non-seasonal"
   ]
  },
  {
   "cell_type": "code",
   "execution_count": 211,
   "id": "c5bb86fa-f0de-4ddf-8663-f994bd3dd4ec",
   "metadata": {},
   "outputs": [],
   "source": [
    "all_rsme=[wmt_rmse, tgt_rmse, cost_rmse, hd_rmse, dg_rmse, low_rmse, tjx_rmse]"
   ]
  },
  {
   "cell_type": "code",
   "execution_count": 216,
   "id": "13bee409-325c-4762-abd3-d0fbc4b57a78",
   "metadata": {},
   "outputs": [
    {
     "name": "stdout",
     "output_type": "stream",
     "text": [
      "T-statistic: -1.4547692168321746\n",
      "P-value: 0.19597039215677495\n"
     ]
    }
   ],
   "source": [
    "method_2_rmse = [rmse['Method 2'] for rmse in all_rsme]\n",
    "seasonal_method_2_rmse = [rmse['Seasonal Method 2'] for rmse in all_rsme]\n",
    "\n",
    "differences = np.array(method_2_rmse) - np.array(seasonal_method_2_rmse)\n",
    "t_stat2, p_value2 = stats.ttest_1samp(differences, 0)\n",
    "print(f\"T-statistic: {t_stat2}\")\n",
    "print(f\"P-value: {p_value2}\")"
   ]
  },
  {
   "cell_type": "code",
   "execution_count": 217,
   "id": "92a2c45e-60e4-462e-9df7-ca1567e008a3",
   "metadata": {},
   "outputs": [
    {
     "name": "stdout",
     "output_type": "stream",
     "text": [
      "T-statistic: 0.1517527046230906\n",
      "P-value: 0.8843560039004554\n"
     ]
    }
   ],
   "source": [
    "method_3_rmse = [rmse['Method 3'] for rmse in all_rsme]\n",
    "seasonal_method_3_rmse = [rmse['Seasonal Method 3'] for rmse in all_rsme]\n",
    "\n",
    "differences = np.array(method_3_rmse) - np.array(seasonal_method_3_rmse)\n",
    "t_stat3, p_value3 = stats.ttest_1samp(differences, 0)\n",
    "print(f\"T-statistic: {t_stat3}\")\n",
    "print(f\"P-value: {p_value3}\")"
   ]
  }
 ],
 "metadata": {
  "kernelspec": {
   "display_name": "Python [conda env:base] *",
   "language": "python",
   "name": "conda-base-py"
  },
  "language_info": {
   "codemirror_mode": {
    "name": "ipython",
    "version": 3
   },
   "file_extension": ".py",
   "mimetype": "text/x-python",
   "name": "python",
   "nbconvert_exporter": "python",
   "pygments_lexer": "ipython3",
   "version": "3.12.3"
  }
 },
 "nbformat": 4,
 "nbformat_minor": 5
}
